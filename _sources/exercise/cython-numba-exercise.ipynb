{
 "cells": [
  {
   "cell_type": "markdown",
   "id": "5323d5ab-6800-48f2-994e-9e050063300a",
   "metadata": {},
   "source": [
    "# Accelerating Python with Cython, Numba and JAX\n",
    "> Scott Brandenberg, UCLA and Krishna Kumar, UT Austin\n",
    "\n",
    "A Hands-On Tutorial\n",
    "Wednesday, April 19, 2:00pm - 3:30pm US Central Time\n",
    "\n",
    "The webinar will feature a hands-on component using DesignSafe Jupyter, so please be sure to register for a DesignSafe user account if you don't already have one. If your existing account is inactive, reactivate it by resetting your password.\n",
    "\n",
    "Python is a popular programming language in natural hazards engineering research because it is free and open-source, and has a plethora of powerful packages for handling our community’s computing needs. However, Python is an interpreted language and is inherently slower and less efficient than compiled languages like Fortran, C, and C++. As a result, many scripts written in Python, particularly those involving loops, can run significantly faster with a few minor modifications. This webinar will demonstrate how vectorized calculations using Numpy arrays are significantly faster than the same operations coded in Python. We will demonstrate how to use Cython to compile Python code to C, which can improve performance by orders of magnitude. We will also demonstrate how to use just in time (JIT) compilation and JAX (Numpy on steroids) to accelerate Python, particularly using GPU’s.\n"
   ]
  },
  {
   "cell_type": "code",
   "execution_count": 1,
   "id": "16c9ed00-9180-4ce4-b72f-2c62cbbe062b",
   "metadata": {},
   "outputs": [
    {
     "data": {
      "text/html": [
       "<style>\n",
       "table {float:left}\n",
       "</style>\n"
      ],
      "text/plain": [
       "<IPython.core.display.HTML object>"
      ]
     },
     "metadata": {},
     "output_type": "display_data"
    }
   ],
   "source": [
    "%%html\n",
    "<style>\n",
    "table {float:left}\n",
    "</style>"
   ]
  },
  {
   "cell_type": "markdown",
   "id": "286db472-c61f-4bcd-9dfe-0ba97ea46f41",
   "metadata": {},
   "source": [
    "# Compiled Languages, Interpreted Languages, and JIT\n",
    "\n",
    "To understand why execution speed is slower in Python than many other languages requires some background knowledge of compilers vs. interpreters, and compiled languages vs. interpreted languages. This section provides some background information.\n",
    "\n",
    "## Compiled Language\n",
    "\n",
    "A compiled language uses a compiler to translate source code to machine code (a.k.a. a binary executable file). The compiler reads the entire source code project to create an executable file specific to a particular hardware architecture. Examples of compiled languages are C, C++, and Fortran.  \n",
    "\n",
    "<img src=\"https://raw.githubusercontent.com/kks32-courses/accelerating-python/main/images/CompiledLanguage.png\" width=\"800\">  \n",
    "Figure 1. Schematic of compiled language operations.\n",
    "\n",
    "## Interpreted Language\n",
    "\n",
    "An interpreted language uses an interpreter to translate source code to machine code. The interpreter reads the source code line by line at runtime, and produces machine code on the fly. Examples of interpreted languages are Python, Javascript, and Ruby.\n",
    "\n",
    "<img src=\"https://raw.githubusercontent.com/kks32-courses/accelerating-python/main/images/InterpretedLanguage.png\" width=\"800\">  \n",
    "Figure 2. Schematic of interpreted language operations.\n",
    "\n",
    "## Hybrid using Just In Time Compilation\n",
    "\n",
    "Just in time (JIT) uses an interpreter to produce compiled code at runtime, and is a hybrid between a compiled language and an interpreted language. The first time the code is run may execute slowly, but subsequent runs will utilize the compiled machine code and will execute quickly.\n",
    "\n",
    "<img src=\"https://raw.githubusercontent.com/kks32-courses/accelerating-python/main/images/HybridJIT.png\" width=\"800\">  \n",
    "Figure 3. Schematic of just-in-time (JIT) compilation.\n",
    "\n",
    "## Pros and Cons\n",
    "\n",
    "Compiled languages have faster execution speed than interpreted languages because the compiler has already created the machine code. Interpeted languages have to perform runtime operations that reduce execution speed. For example, Python must check the type of each variable before a simple addition operation to make sure the types are compatible. If they aren't it returns an error. JIT may exhibit execution speeds comparable to compiled languages, with the caveat that the code must be compiled upon the first execution, which takes some time. Subsequent executions will be faster.\n",
    "\n",
    "Interpreted languages are often faster for code development because many operations are handled by the interpreter, and need not be written by the code developer. For example, variable types do not need to be declared in Python because the interpeter infers them at rutime. This is very convenient, and allows developers to more rapidly write their code.\n",
    "\n",
    "Compiled languages allow developers to keep their source code private because they can deploy a binary executable file that users can run on their own computers (assuming hardware compatibility). By contrast, interpreted languages require disclosure of the source code, which must be interpreted every time the code is executed.\n",
    "\n",
    "Interpreted languages are more portable because the source code is disclosed, and can be interpreted on any user's computer. Compiled binary executables are hardware-specific, and different binary files may be required for different operating systems (e.g., PC vs. Mac vs. Unix).\n",
    "\n",
    "Table 1. Pros and cons of compiled, interpreted, and hybrid (JIT).\n",
    "\n",
    "|                  | Compiled | Interpreted | JIT |\n",
    "| ---------------- | :------: | :---------: | :-: |\n",
    "| Execution Speed  | ✔️       | ✖️         | ✔️* |\n",
    "| Code Development | ✖️       | ✔️         | ✔️  |\n",
    "| Private Code     | ✔️       | ✖️         | ✖️  |\n",
    "| Portability      | ✖️       | ✔️         | ✔️  |  \n",
    "|* JIT may have poor execution speed on the first run |"
   ]
  },
  {
   "cell_type": "markdown",
   "id": "e33b6e8f-d723-41ce-a925-29522581a944",
   "metadata": {},
   "source": [
    "# Vectorized Calculation Using Numpy Arrays\n",
    "\n",
    "Numpy is a the fundamental package for scientific computing in Python. Although Numpy is a Python package, it was not developed in Python. Rather, it is written mostly in C and consists of binary executables compiled from source code. Numpy functions are therefore generally significantly faster than the same operations performed in Python. The term \"vectorized operation\" refers to passing an entire Numpy array of known data type to an optimized, compiled C code. The example below shows a simple calculation of a harmonic function using vectorized operations compared with the same operation in a Python loop. The vectorized calculation is much faster."
   ]
  },
  {
   "cell_type": "code",
   "execution_count": 4,
   "id": "0030ace2-4145-4663-9eb7-2a4f6a708943",
   "metadata": {},
   "outputs": [],
   "source": [
    "import numpy as np\n",
    "import time\n",
    "\n",
    "# time step in seconds\n",
    "\n",
    "# Number of time steps\n",
    "\n",
    "# Frequency in Hz\n",
    "\n",
    "# Numpy array containing time vector consisting of 32 bit floating point precision values\n",
    "\n",
    "# Vectorized operation that passes time array into Numpy sin function\n",
    "\n",
    "# Non-vectorized operation that uses a Python for loop\n",
    "\n",
    "# Ratio of execution times\n"
   ]
  },
  {
   "cell_type": "markdown",
   "id": "fccfaf68-54a4-4525-8210-7e9b890f2e01",
   "metadata": {
    "tags": []
   },
   "source": [
    "# Hands-on Cython and Numba\n",
    "\n",
    "Python is a popular programming language in natural hazards engineering research because it is free and open-source, and has a plethora of powerful packages for handling our community’s computing needs. However, Python is an interpreted language and is inherently slower and less efficient than compiled languages like Fortran, C, and C++. As a result, many scripts written in Python, particularly those involving loops, can run significantly faster with a few minor modifications. This webinar will demonstrate how vectorized calculations using Numpy arrays and Scipy are significantly faster than the same operations coded in Python. We will demonstrate how to use Cython to compile Python code to C, which can improve performance by orders of magnitude. We will also demonstrate how to use just in time (JIT) compilation to accelerate Python, particularly using GPU’s.\n",
    "\n",
    "## Heat Flow Problem\n",
    "\n",
    "The relative performance of different coding approaches is demonstrated using a finite difference solution to the 2D transient heat flow problem for a square domain with a constant initial temperature subject to a temperature change on the top.\n",
    "\n",
    "## Governing differential equation\n",
    "\n",
    "$\\frac{\\partial T}{\\partial t} = \\alpha \\left[ \\frac{\\partial ^2 T}{\\partial x^2} + \\frac{\\partial^2 T}{\\partial y^2}\\right]$\n",
    "\n",
    "T = temperature  \n",
    "t = time  \n",
    "x = horizontal dimension  \n",
    "y = vertical dimension  \n",
    "$\\alpha$ = thermal diffusivity  \n",
    "\n",
    "## Finite different approximation for a rectangular mesh\n",
    "$\\frac{\\partial T}{\\partial t} \\approx \\frac{T_{ij}^{k+1} - T_{ij}^{k}}{\\Delta t}$  \n",
    "\n",
    "$\\frac{\\partial ^2 T}{\\partial x^2} \\approx \\alpha \\frac{T_{i+1,j}^k -2T_{i,j}^k + T_{i-1,j}^k}{\\Delta x^2}$  \n",
    "\n",
    "$\\frac{\\partial ^2 T}{\\partial y^2} \\approx \\alpha \\frac{T_{1,j+1}^k -2T_{i,j}^k + T_{i,j-1}^k}{\\Delta y^2}$  \n",
    "\n",
    "$\\Delta x$ = node spacing in x-direction  \n",
    "$\\Delta y$ = node spacing in y-direction  \n",
    "$\\Delta t$ = time step  \n",
    "i = index counter for x-direction  \n",
    "j = index counter for y-direction  \n",
    "k = index counter for time  \n",
    "\n",
    "### Resulting equation\n",
    "\n",
    "$\\frac{T_{ij}^{k+1} - T_{ij}^{k}}{\\Delta t} = \\alpha \\frac{T_{i+1,j}^k -2T_{i,j}^k + T_{i-1,j}^k}{\\Delta x^2} + \\alpha \\frac{T_{1,j+1}^k -2T_{i,j}^k + T_{i,j-1}^k}{\\Delta y^2}$  \n",
    "\n",
    "### If $\\Delta x = \\Delta y$ we obtain the following\n",
    "\n",
    "$\\frac{T_{ij}^{k+1} - T_{ij}^{k}}{\\Delta t} = \\alpha \\frac{T_{i+1,j}^k + T_{1,j+1}^k -4T_{i,j}^k + T_{i-1,j}^k + T_{i,j-1}^k}{\\Delta x^2}$  \n",
    "\n",
    "### Solving for $T_{ij}^{k+1}$ and re-arranging terms\n",
    "\n",
    "$T_{ij}^{k+1} = \\gamma\\left(T_{i+1,j}^k + T_{1,j+1}^k + T_{i-1,j}^k + T_{i,j-1}^k\\right) + \\left(1 - 4\\gamma\\right)T_{ij}^k$  \n",
    "\n",
    "where $\\gamma = \\frac{\\alpha \\Delta t}{\\Delta x^2}$\n",
    "\n",
    "\n",
    "### Note: the solution will become unstable if $\\left(1 - \\frac{4\\alpha \\Delta t}{\\Delta x^2} \\right) < 0$. We therefore set the time step as shown below.\n",
    "\n",
    "$\\Delta t = \\frac{\\Delta x^2}{4\\alpha}$  \n",
    "\n",
    "### Using the time step above, we find that $\\left(1-4\\gamma\\right)=0$ and therefore the resulting equation is:\n",
    "\n",
    "$T_{ij}^{k+1} = \\gamma\\left(T_{i+1,j}^k + T_{i,j+1}^k + T_{i-1,j}^k + T_{i,j-1}^k\\right)$  "
   ]
  },
  {
   "cell_type": "markdown",
   "id": "43d3a8f5-7d64-482a-bb5c-9a71e9c645fb",
   "metadata": {
    "tags": []
   },
   "source": [
    "## Define input variables\n",
    "\n",
    "`L`         = plate length  \n",
    "`Nt`        = number of time steps  \n",
    "`Nx`        = number of increments in x-direction (same as y-direction since plate is square)  \n",
    "`alpha`     = thermal diffusivity  \n",
    "`dx`        = node spacing  \n",
    "`dt`        = time increment  \n",
    "`T_top`     = temperature of top of plate  \n",
    "`T_left`    = temperature of left side of plate  \n",
    "`T_right`   = temperature of right side of plate  \n",
    "`T_bottom`  = temperature of bottom of plate  \n",
    "`T_initial` = initial temperature of plate  "
   ]
  },
  {
   "cell_type": "code",
   "execution_count": 6,
   "id": "9c02223b-9a63-499b-bcaf-27e387fc5ae8",
   "metadata": {},
   "outputs": [],
   "source": [
    "import numpy as np\n",
    "import matplotlib.pyplot as plt\n",
    "\n",
    "L = 50\n",
    "Nt = 1000\n",
    "Nx = 50\n",
    "alpha = 2.0\n",
    "dx = L/Nx\n",
    "dt = dx**2/4.0/alpha\n",
    "gamma = alpha*dt/dx/dx\n",
    "T_top = 100.0\n",
    "T_left = 0.0\n",
    "T_right = 0.0\n",
    "T_bottom = 0.0\n",
    "T_initial = 0.0\n",
    "\n",
    "# Initialize Numpy array T to store temperature values\n",
    "T = np.full((Nt,Nx,Nx),T_initial,dtype=float)\n",
    "T[:,:,:1] = T_left\n",
    "T[:,:,Nx-1] = T_right\n",
    "T[:,:1,:] = T_bottom\n",
    "T[:,Nx-1:, :] = T_top\n"
   ]
  },
  {
   "cell_type": "markdown",
   "id": "0d0867b3-21b4-47cf-becd-1e4f07eb82a7",
   "metadata": {},
   "source": [
    "## Implementation Using Python Loops\n",
    "\n",
    "The function below utilizes nested Python loops to define the temperature array. It accepts an initialized temperature array $T$ and $\\gamma$ as arguments and returns the updated temperature array. "
   ]
  },
  {
   "cell_type": "code",
   "execution_count": 7,
   "id": "2ebd3014-3cbf-48d7-bf37-71d57ef99016",
   "metadata": {},
   "outputs": [],
   "source": [
    "def calculate_python(T,gamma):\n",
    "    Nt = len(T)\n",
    "    Nx = len(T[0])\n",
    "    for k in range(0,Nt-1,1):\n",
    "        for i in range(1,Nx-1,1):\n",
    "            for j in range(1,Nx-1,1):\n",
    "                T[k+1,i,j] = gamma*(T[k,i+1,j] + T[k,i-1,j] + T[k,i,j+1] + T[k,i,j-1])\n",
    "    return T"
   ]
  },
  {
   "cell_type": "markdown",
   "id": "05cfdb67-8970-4a03-9e63-7a567fd7dab8",
   "metadata": {},
   "source": [
    "## Implementation Using Cython\n",
    "\n",
    "Cython is an optimising static compiler for both the Python programming language and the extended Cython programming language (based on Pyrex). It makes writing C extensions for Python as easy as Python itself. \n",
    "\n",
    "https://cython.org/\n",
    "\n",
    "### Dependencies\n",
    "\n",
    "* C compiler\n",
    "* Cython package\n",
    "* Python\n",
    "\n",
    "Cython can be implemented in different ways. One way is to create a Cython file with a .pyx extension, and write a separate setup.py file that instructs the compiler how to compile your Cython code to C. Another way is to utilize the Cython magic within Jupyter, which is what we will do here.\n",
    "\n",
    "### Additional information\n",
    "\n",
    "To indicate you want to run a cython cell, include %%cython at the top of your notebook cell.\n",
    "\n",
    "To include hints about native Python code that might slow things down, use %%cython -a. Your goal should be to remove as many yellow highlights as possible, especially inside loops. Yellow highlights indicate Python overhead where the work of the Python interpreter will be compiled into your C code, thereby making it slow.\n",
    "\n",
    "This example will use typed memoryviews to handle NumPy arrays. https://cython.readthedocs.io/en/latest/src/userguide/memoryviews.html"
   ]
  },
  {
   "cell_type": "code",
   "execution_count": 8,
   "id": "56cede8e-e55b-4e02-823d-ed59014bf7c2",
   "metadata": {},
   "outputs": [
    {
     "name": "stdout",
     "output_type": "stream",
     "text": [
      "Requirement already satisfied: cython in /home/jupyter/.local/lib/python3.9/site-packages (0.29.34)\n",
      "The cython extension is already loaded. To reload it, use:\n",
      "  %reload_ext cython\n"
     ]
    }
   ],
   "source": [
    "# install the Cython package\n",
    "!pip install --user cython\n",
    "\n",
    "# load the Cython package\n",
    "%load_ext cython"
   ]
  },
  {
   "cell_type": "code",
   "execution_count": 9,
   "id": "1120e4bd-7da8-4978-a083-aadc29e36efb",
   "metadata": {},
   "outputs": [],
   "source": [
    "%%cython\n",
    "import cython\n",
    "import numpy as np\n",
    "cimport numpy as np\n"
   ]
  },
  {
   "cell_type": "markdown",
   "id": "ff526a08-8388-4e27-bba3-25464ce4d010",
   "metadata": {},
   "source": [
    "# Implementation Using Numba JIT\n",
    "\n",
    "Numba provides several utilities for code generation, but its central feature is the numba.jit() decorator. Using this decorator, you can mark a function for optimization by Numba’s JIT compiler. Various invocation modes trigger differing compilation options and behaviours.\n",
    "\n",
    "https://numba.pydata.org/numba-doc/latest/user/jit.html"
   ]
  },
  {
   "cell_type": "code",
   "execution_count": 10,
   "id": "e97da8c5-4fec-44d4-b532-f489ece1c84d",
   "metadata": {},
   "outputs": [
    {
     "name": "stdout",
     "output_type": "stream",
     "text": [
      "Collecting numba\n",
      "  Downloading numba-0.56.4-cp39-cp39-manylinux2014_x86_64.manylinux_2_17_x86_64.whl (3.5 MB)\n",
      "\u001b[2K     \u001b[90m━━━━━━━━━━━━━━━━━━━━━━━━━━━━━━━━━━━━━━━━\u001b[0m \u001b[32m3.5/3.5 MB\u001b[0m \u001b[31m19.5 MB/s\u001b[0m eta \u001b[36m0:00:00\u001b[0m00:01\u001b[0m00:01\u001b[0m\n",
      "\u001b[?25hCollecting llvmlite<0.40,>=0.39.0dev0\n",
      "  Downloading llvmlite-0.39.1-cp39-cp39-manylinux_2_17_x86_64.manylinux2014_x86_64.whl (34.6 MB)\n",
      "\u001b[2K     \u001b[90m━━━━━━━━━━━━━━━━━━━━━━━━━━━━━━━━━━━━━━━━\u001b[0m \u001b[32m34.6/34.6 MB\u001b[0m \u001b[31m20.4 MB/s\u001b[0m eta \u001b[36m0:00:00\u001b[0m00:01\u001b[0m00:01\u001b[0m\n",
      "\u001b[?25hRequirement already satisfied: setuptools in /opt/conda/lib/python3.9/site-packages (from numba) (60.9.3)\n",
      "Requirement already satisfied: numpy<1.24,>=1.18 in /opt/conda/lib/python3.9/site-packages (from numba) (1.22.2)\n",
      "Installing collected packages: llvmlite, numba\n",
      "Successfully installed llvmlite-0.39.1 numba-0.56.4\n"
     ]
    }
   ],
   "source": [
    "!pip install --user numba"
   ]
  },
  {
   "cell_type": "code",
   "execution_count": 11,
   "id": "09d8aad6-74c2-43c0-9c45-d187afd99390",
   "metadata": {},
   "outputs": [],
   "source": [
    "import numba\n",
    "import numpy as np\n",
    "from numba.typed import List"
   ]
  },
  {
   "attachments": {},
   "cell_type": "markdown",
   "id": "ed516059-f25e-477c-87d5-20cae2a7ec50",
   "metadata": {
    "tags": []
   },
   "source": [
    "# Using Scipy's Convolve Operator\n",
    "\n",
    "We know that Python loops are slow thanks to the interpreter. We also know that we can use Cython and Numba / JIT to significantly improve performance. It turns out that we can also use the SciPy signal package to run this code efficiently using the convolve operator. This is kind of equivalent to vectorized calculations because we are passing the loops to efficiently compiled C code within SciPy instead of performing those loops in Python.\n",
    "\n",
    "https://docs.scipy.org/doc/scipy/reference/generated/scipy.signal.convolve.html\n",
    "\n",
    "![vectorization](https://raw.githubusercontent.com/kks32-courses/accelerating-python/main/images/convolution.png)"
   ]
  },
  {
   "cell_type": "code",
   "execution_count": 12,
   "id": "352a3a65-a148-4b66-8a7b-71b237fbb9c2",
   "metadata": {},
   "outputs": [],
   "source": [
    "import numpy as np\n",
    "from scipy.signal import convolve"
   ]
  },
  {
   "cell_type": "code",
   "execution_count": null,
   "id": "64d4bc15-5c89-4068-915e-c1e9c325addf",
   "metadata": {},
   "outputs": [],
   "source": [
    "## Performance Measurement Summary\n",
    "\n",
    "import time\n",
    "start_time = time.time()\n",
    "T_python = calculate_python(T, gamma)\n",
    "print(f\"Pure Python time: = {time.time() - start_time:.3f} seconds\")\n",
    "start_time = time.time()\n",
    "T_cython = calculate_cython(T, gamma)\n",
    "print(f\"Cython time: = {time.time() - start_time:.3f} seconds\")\n",
    "start_time = time.time()\n",
    "T_numba = calculate_numba_wrapper(T, gamma)\n",
    "print(f\"Numba time (first run): = {time.time() - start_time:.3f} seconds\")\n",
    "start_time = time.time()\n",
    "T_numba = calculate_numba_wrapper(T, gamma)\n",
    "print(f\"Numba time (second run): = {time.time() - start_time:.3f} seconds\")\n",
    "start_time = time.time()\n",
    "T_convolve = calculate_conv(T, gamma)\n",
    "print(f\"Python Convolution time: = {time.time() - start_time:.3f} seconds\")"
   ]
  },
  {
   "cell_type": "markdown",
   "id": "e27ecec8-0571-4a78-8662-eccfe76aa643",
   "metadata": {},
   "source": [
    "## Plot heat maps to make sure the algorithms are the same"
   ]
  },
  {
   "cell_type": "code",
   "execution_count": null,
   "id": "2968245d-8ff9-47d6-b010-67a0ffa06b45",
   "metadata": {},
   "outputs": [],
   "source": [
    "fig, ax = plt.subplots(ncols=4,figsize=(12,3),sharey='row')\n",
    "k = 999\n",
    "data = {'Python':T_python[k], 'Cython':T_cython[k], 'Numba':T_numba[k], 'Convolve':T_convolve[k]}\n",
    "i = 0\n",
    "for key, value in data.items():\n",
    "    pcm = ax[i].pcolormesh(value, cmap=plt.cm.viridis, vmin=0, vmax=100)\n",
    "    ax[i].set_xlabel('x-position')\n",
    "    ax[i].set_aspect('equal')\n",
    "    ax[i].annotate(key, xy=(1,1), c='white', fontsize=15)\n",
    "    fig.colorbar(pcm,ax=ax[i],shrink=0.75)\n",
    "    i+=1    \n",
    "ax[0].set_ylabel('y-position')\n",
    "#fig.colorbar(pcm)\n",
    "plt.tight_layout()"
   ]
  },
  {
   "cell_type": "markdown",
   "id": "4f9baa93-4184-4640-a4d0-89fd2e49501c",
   "metadata": {},
   "source": [
    "## Large-scale problem\n",
    "\n",
    "Cython and Numba are so much faster than pure Python. They are in fact so fast that it's difficult to observe differences in performance for the small domain we solved previously. So let's increase the mesh density so the calculations take a little bit longer"
   ]
  },
  {
   "cell_type": "code",
   "execution_count": null,
   "id": "c79bcaf1-fc21-4f30-8ed9-e5170720646f",
   "metadata": {},
   "outputs": [],
   "source": [
    "L = 50\n",
    "Nt = 4000\n",
    "Nx = 200\n",
    "alpha = 2.0\n",
    "dx = L/Nx\n",
    "dt = dx**2/4.0/alpha\n",
    "T_top = 100.0\n",
    "T_left = 0.0\n",
    "T_right = 0.0\n",
    "T_bottom = 0.0\n",
    "T_initial = 0.0\n",
    "T = np.empty((Nt,Nx,Nx))\n",
    "T.fill(T_initial)\n",
    "T[:,:,:1] = T_left\n",
    "T[:,:,Nx-1] = T_right\n",
    "T[:,:1,:] = T_bottom\n",
    "T[:,Nx-1:, :] = T_top\n",
    "start_time = time.time()\n",
    "T_cython = calculate_cython(T, gamma)\n",
    "print(f\"Cython time: = {time.time() - start_time:.3f} seconds\")\n",
    "start_time = time.time()\n",
    "T_numba = calculate_numba_wrapper(T, gamma)\n",
    "print(f\"Numba time: = {time.time() - start_time:.3f} seconds\")"
   ]
  }
 ],
 "metadata": {
  "IMAGE_NAME": "taccsciapps/ds-nb-img:base-0.1.0",
  "UUID": "e8ec685a-de03-11ed-b3b9-ae00376cd795",
  "kernelspec": {
   "display_name": "Python 3 (ipykernel)",
   "language": "python",
   "name": "python3"
  },
  "language_info": {
   "codemirror_mode": {
    "name": "ipython",
    "version": 3
   },
   "file_extension": ".py",
   "mimetype": "text/x-python",
   "name": "python",
   "nbconvert_exporter": "python",
   "pygments_lexer": "ipython3",
   "version": "3.9.10"
  }
 },
 "nbformat": 4,
 "nbformat_minor": 5
}
